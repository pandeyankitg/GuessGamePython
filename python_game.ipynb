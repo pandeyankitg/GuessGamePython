{
  "nbformat": 4,
  "nbformat_minor": 0,
  "metadata": {
    "colab": {
      "provenance": []
    },
    "kernelspec": {
      "name": "python3",
      "display_name": "Python 3"
    },
    "language_info": {
      "name": "python"
    }
  },
  "cells": [
    {
      "cell_type": "code",
      "execution_count": null,
      "metadata": {
        "colab": {
          "base_uri": "https://localhost:8080/"
        },
        "id": "l2eMj26u189h",
        "outputId": "adf08097-d311-40b9-92af-77c71e24aeed"
      },
      "outputs": [
        {
          "output_type": "stream",
          "name": "stdout",
          "text": [
            "*******************************\n",
            "*Welcome to the guessing game!*\n",
            "*******************************\n",
            "We have these levels\n",
            "(1) Easy (2) Medium (3) Hard\n"
          ]
        }
      ],
      "source": [
        "import random\n",
        "\n",
        "\n",
        "def welcome_message():\n",
        "    print(\"*******************************\")\n",
        "    print(\"*Welcome to the guessing game!*\")\n",
        "    print(\"*******************************\")\n",
        "\n",
        "\n",
        "def get_secret_number():\n",
        "    return round(random.randrange(1, 101))\n",
        "\n",
        "\n",
        "def get_level():\n",
        "    print(\"We have these levels\")\n",
        "    print(\"(1) Easy (2) Medium (3) Hard\")\n",
        "\n",
        "    level = int(input(\"What level do you wanna play?\"))\n",
        "\n",
        "    if level == 1:\n",
        "        total_tries = 20\n",
        "    elif level == 2:\n",
        "        total_tries = 10\n",
        "    else:\n",
        "        total_tries = 5\n",
        "\n",
        "    return total_tries\n",
        "\n",
        "\n",
        "def guess_game(secret_number, total_tries):\n",
        "    number_of_tries = 1\n",
        "    points = 1000\n",
        "\n",
        "    not_guessed = True\n",
        "    not_lose = True\n",
        "\n",
        "    while not_guessed and not_lose:\n",
        "\n",
        "        print(f\"Try {number_of_tries} of {total_tries}\")\n",
        "        guess = int(input(\"Give it a try: \"))\n",
        "        print(\"You tried\", guess)\n",
        "\n",
        "        if guess < 1 or guess > 100:\n",
        "            print(\"Try again, but type a number between 1 and 100\")\n",
        "            continue\n",
        "\n",
        "        guessed = secret_number == guess\n",
        "        greater = secret_number > guess\n",
        "        lesser = secret_number < guess\n",
        "\n",
        "        if guessed:\n",
        "            print(f\"You are right! You got {points} points!\")\n",
        "            not_guessed = False\n",
        "\n",
        "        else:\n",
        "            if greater:\n",
        "                print(\"You are wrong! The secret number is greater than this!\")\n",
        "            elif lesser:\n",
        "                print(\"You are wrong! The secret number is lesser than this!\")\n",
        "\n",
        "            points_to_lose = abs(secret_number - guess)\n",
        "            points = points - points_to_lose\n",
        "\n",
        "        number_of_tries = number_of_tries + 1\n",
        "        if number_of_tries > total_tries:\n",
        "            not_lose = False\n",
        "\n",
        "\n",
        "def play():\n",
        "\n",
        "    welcome_message()\n",
        "\n",
        "    secret_number = get_secret_number()\n",
        "\n",
        "    total_tries = get_level()\n",
        "\n",
        "    print(\"We have a secret number! Take a guess! Type a number between 1 and 100\")\n",
        "\n",
        "    guess_game(secret_number, total_tries)\n",
        "\n",
        "\n",
        "if __name__ == \"__main__\":\n",
        "    play()"
      ]
    }
  ]
}